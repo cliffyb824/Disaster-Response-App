{
 "cells": [
  {
   "cell_type": "markdown",
   "metadata": {},
   "source": [
    "# ML Pipeline Preparation\n",
    "Follow the instructions below to help you create your ML pipeline.\n",
    "### 1. Import libraries and load data from database.\n",
    "- Import Python libraries\n",
    "- Load dataset from database with [`read_sql_table`](https://pandas.pydata.org/pandas-docs/stable/generated/pandas.read_sql_table.html)\n",
    "- Define feature and target variables X and Y"
   ]
  },
  {
   "cell_type": "code",
   "execution_count": 1,
   "metadata": {},
   "outputs": [
    {
     "name": "stderr",
     "output_type": "stream",
     "text": [
      "[nltk_data] Downloading package punkt to\n",
      "[nltk_data]     C:\\Users\\yuqiu\\AppData\\Roaming\\nltk_data...\n",
      "[nltk_data]   Package punkt is already up-to-date!\n",
      "[nltk_data] Downloading package wordnet to\n",
      "[nltk_data]     C:\\Users\\yuqiu\\AppData\\Roaming\\nltk_data...\n",
      "[nltk_data]   Package wordnet is already up-to-date!\n",
      "[nltk_data] Downloading package stopwords to\n",
      "[nltk_data]     C:\\Users\\yuqiu\\AppData\\Roaming\\nltk_data...\n",
      "[nltk_data]   Package stopwords is already up-to-date!\n"
     ]
    }
   ],
   "source": [
    "# import libraries\n",
    "import os\n",
    "import re\n",
    "import pandas as pd\n",
    "import matplotlib.pyplot as plt\n",
    "%matplotlib inline\n",
    "\n",
    "# import sql library\n",
    "from sqlalchemy import create_engine\n",
    "\n",
    "# import nltk libraries\n",
    "import nltk\n",
    "nltk.download(['punkt', 'wordnet', 'stopwords'])\n",
    "from nltk.tokenize import word_tokenize\n",
    "from nltk.corpus import stopwords\n",
    "from nltk.stem import WordNetLemmatizer, PorterStemmer\n",
    "\n",
    "# import sci-kit learn libraries\n",
    "from sklearn.pipeline import Pipeline, FeatureUnion\n",
    "from sklearn.model_selection import GridSearchCV\n",
    "from sklearn.model_selection import train_test_split\n",
    "from sklearn.multioutput import MultiOutputClassifier\n",
    "from sklearn.ensemble import RandomForestClassifier, AdaBoostClassifier\n",
    "from sklearn.svm import SVC\n",
    "from sklearn.base import BaseEstimator, TransformerMixin\n",
    "from sklearn.metrics import classification_report\n",
    "from sklearn.feature_extraction.text import CountVectorizer, TfidfTransformer\n",
    "\n",
    "# import library to save trained model\n",
    "import pickle"
   ]
  },
  {
   "cell_type": "code",
   "execution_count": 2,
   "metadata": {},
   "outputs": [],
   "source": [
    "# load data from database\n",
    "database_filepath = '../data/DisasterResponse.db'\n",
    "engine = create_engine('sqlite:///{}'.format(database_filepath))\n",
    "table_name = os.path.basename(database_filepath).split('.')[0]\n",
    "df = pd.read_sql_table(table_name, engine)\n",
    "X = df['message']\n",
    "Y = df.iloc[:,4:]"
   ]
  },
  {
   "cell_type": "markdown",
   "metadata": {},
   "source": [
    "### 2. Write a tokenization function to process your text data"
   ]
  },
  {
   "cell_type": "code",
   "execution_count": 3,
   "metadata": {},
   "outputs": [],
   "source": [
    "def tokenize(text):\n",
    "    \n",
    "    # check if there are urls within the text\n",
    "    url_regex = 'http[s]?://(?:[a-zA-Z]|[0-9]|[$-_@.&+]|[!*\\(\\),]|(?:%[0-9a-fA-F][0-9a-fA-F]))+'\n",
    "    detected_urls = re.findall(url_regex,text)\n",
    "    for url in detected_urls:\n",
    "        text = text.replace(url,\"urlplaceholder\")\n",
    "    \n",
    "    # remove punctuation\n",
    "    text = re.sub(r\"[^a-zA-Z0-9]\",\" \",text)\n",
    "    \n",
    "    # tokenize the text\n",
    "    tokens = word_tokenize(text)\n",
    "    \n",
    "    # remove stop words\n",
    "    tokens = [tok for tok in tokens if tok not in stopwords.words(\"english\")]\n",
    "    \n",
    "    # Lemmatization\n",
    "    lemmatizer = WordNetLemmatizer()\n",
    "    \n",
    "    clean_tokens = []\n",
    "    for tok in tokens:\n",
    "        clean_tok = lemmatizer.lemmatize(tok).lower().strip()\n",
    "        clean_tokens.append(clean_tok)\n",
    "\n",
    "    return clean_tokens"
   ]
  },
  {
   "cell_type": "markdown",
   "metadata": {},
   "source": [
    "### 3. Build a machine learning pipeline\n",
    "This machine pipeline should take in the `message` column as input and output classification results on the other 36 categories in the dataset. You may find the [MultiOutputClassifier](http://scikit-learn.org/stable/modules/generated/sklearn.multioutput.MultiOutputClassifier.html) helpful for predicting multiple target variables."
   ]
  },
  {
   "cell_type": "code",
   "execution_count": 12,
   "metadata": {},
   "outputs": [],
   "source": [
    "pipeline = Pipeline([\n",
    "    ('vect', CountVectorizer(tokenizer=tokenize)),\n",
    "    ('tfidf', TfidfTransformer()),\n",
    "    ('clf', MultiOutputClassifier(RandomForestClassifier()))\n",
    "])"
   ]
  },
  {
   "cell_type": "markdown",
   "metadata": {},
   "source": [
    "### 4. Train pipeline\n",
    "- Split data into train and test sets\n",
    "- Train pipeline"
   ]
  },
  {
   "cell_type": "code",
   "execution_count": 9,
   "metadata": {},
   "outputs": [],
   "source": [
    "X_train, X_test, Y_train, Y_test = train_test_split(X, Y, test_size=0.25, random_state = 42)"
   ]
  },
  {
   "cell_type": "code",
   "execution_count": 13,
   "metadata": {},
   "outputs": [
    {
     "data": {
      "text/plain": [
       "Pipeline(steps=[('vect',\n",
       "                 CountVectorizer(tokenizer=<function tokenize at 0x00000298A4D64B80>)),\n",
       "                ('tfidf', TfidfTransformer()),\n",
       "                ('clf',\n",
       "                 MultiOutputClassifier(estimator=RandomForestClassifier()))])"
      ]
     },
     "execution_count": 13,
     "metadata": {},
     "output_type": "execute_result"
    }
   ],
   "source": [
    "pipeline.fit(X_train, Y_train)"
   ]
  },
  {
   "cell_type": "markdown",
   "metadata": {},
   "source": [
    "### 5. Test your model\n",
    "Report the f1 score, precision and recall for each output category of the dataset. You can do this by iterating through the columns and calling sklearn's `classification_report` on each."
   ]
  },
  {
   "cell_type": "markdown",
   "metadata": {},
   "source": [
    "metrics sorted:\n",
    "1. Precision: Precision explains how many of the correctly predicted cases actually turned out to be positive. Precision is useful in the cases where False Positive is a higher concern than False Negatives. The importance of Precision is in music or video recommendation systems, e-commerce websites, etc. where wrong results could lead to customer churn and this could be harmful to the business.\n",
    "2. Recall (Sensitivity): Recall explains how many of the actual positive cases we were able to predict correctly with our model. It is a useful metric in cases where False Negative is of higher concern than False Positive. It is important in medical cases where it doesn’t matter whether we raise a false alarm but the actual positive cases should not go undetected!\n",
    "3. F1 Score: It gives a combined idea about Precision and Recall metrics. It is maximum when Precision is equal to Recall.\n",
    "4. AUC-ROC: The Receiver Operator Characteristic (ROC) is a probability curve that plots the TPR(True Positive Rate) against the FPR(False Positive Rate) at various threshold values and separates the ‘signal’ from the ‘noise’."
   ]
  },
  {
   "cell_type": "markdown",
   "metadata": {},
   "source": [
    "#### Test model on training set"
   ]
  },
  {
   "cell_type": "code",
   "execution_count": 33,
   "metadata": {},
   "outputs": [
    {
     "name": "stdout",
     "output_type": "stream",
     "text": [
      "                        precision    recall  f1-score   support\n",
      "\n",
      "               related       1.00      1.00      1.00     15103\n",
      "               request       1.00      1.00      1.00      3504\n",
      "                 offer       0.99      0.97      0.98       226\n",
      "           aid_related       1.00      1.00      1.00      8331\n",
      "          medical_help       1.00      0.99      1.00      1690\n",
      "      medical_products       1.00      0.99      0.99      1110\n",
      "     search_and_rescue       1.00      0.99      0.99       706\n",
      "              security       1.00      0.97      0.99       496\n",
      "              military       1.00      0.99      0.99       801\n",
      "           child_alone       0.99      0.96      0.97       141\n",
      "                 water       1.00      1.00      1.00      1395\n",
      "                  food       1.00      1.00      1.00      2319\n",
      "               shelter       1.00      1.00      1.00      1874\n",
      "              clothing       0.99      0.99      0.99       448\n",
      "                 money       1.00      0.99      0.99       612\n",
      "        missing_people       1.00      0.98      0.99       366\n",
      "              refugees       1.00      0.99      0.99       801\n",
      "                 death       1.00      0.99      1.00      1038\n",
      "             other_aid       1.00      0.99      1.00      2723\n",
      "infrastructure_related       1.00      0.99      1.00      1435\n",
      "             transport       1.00      0.99      0.99      1039\n",
      "             buildings       1.00      0.99      1.00      1151\n",
      "           electricity       1.00      0.99      0.99       526\n",
      "                 tools       1.00      0.97      0.98       257\n",
      "             hospitals       1.00      0.98      0.99       368\n",
      "                 shops       1.00      0.97      0.98       237\n",
      "           aid_centers       0.99      0.98      0.99       369\n",
      "  other_infrastructure       1.00      0.99      0.99      1009\n",
      "       weather_related       1.00      1.00      1.00      5665\n",
      "                floods       1.00      0.99      1.00      1777\n",
      "                 storm       1.00      1.00      1.00      1979\n",
      "                  fire       1.00      0.98      0.99       357\n",
      "            earthquake       1.00      1.00      1.00      2006\n",
      "                  cold       1.00      0.98      0.99       530\n",
      "         other_weather       1.00      0.99      1.00      1182\n",
      "         direct_report       1.00      1.00      1.00      3944\n",
      "\n",
      "             micro avg       1.00      0.99      1.00     67515\n",
      "             macro avg       1.00      0.99      0.99     67515\n",
      "          weighted avg       1.00      0.99      1.00     67515\n",
      "           samples avg       0.77      0.77      0.77     67515\n",
      "\n",
      "related                   0.998423\n",
      "request                   0.998932\n",
      "offer                     0.999593\n",
      "aid_related               0.998423\n",
      "medical_help              0.999186\n",
      "medical_products          0.999390\n",
      "search_and_rescue         0.999542\n",
      "security                  0.999288\n",
      "military                  0.999441\n",
      "child_alone               0.999644\n",
      "water                     0.999644\n",
      "food                      0.999542\n",
      "shelter                   0.999542\n",
      "clothing                  0.999593\n",
      "money                     0.999542\n",
      "missing_people            0.999593\n",
      "refugees                  0.999542\n",
      "death                     0.999542\n",
      "other_aid                 0.998678\n",
      "infrastructure_related    0.999288\n",
      "transport                 0.999339\n",
      "buildings                 0.999441\n",
      "electricity               0.999644\n",
      "tools                     0.999542\n",
      "hospitals                 0.999593\n",
      "shops                     0.999593\n",
      "aid_centers               0.999593\n",
      "other_infrastructure      0.999390\n",
      "weather_related           0.999339\n",
      "floods                    0.999390\n",
      "storm                     0.999593\n",
      "fire                      0.999644\n",
      "earthquake                0.999339\n",
      "cold                      0.999390\n",
      "other_weather             0.999441\n",
      "direct_report             0.998881\n",
      "dtype: float64\n"
     ]
    },
    {
     "name": "stderr",
     "output_type": "stream",
     "text": [
      "C:\\Users\\yuqiu\\AppData\\Local\\Programs\\Python\\Python38\\lib\\site-packages\\sklearn\\metrics\\_classification.py:1308: UndefinedMetricWarning: Precision and F-score are ill-defined and being set to 0.0 in samples with no predicted labels. Use `zero_division` parameter to control this behavior.\n",
      "  _warn_prf(average, modifier, msg_start, len(result))\n",
      "C:\\Users\\yuqiu\\AppData\\Local\\Programs\\Python\\Python38\\lib\\site-packages\\sklearn\\metrics\\_classification.py:1308: UndefinedMetricWarning: Recall and F-score are ill-defined and being set to 0.0 in samples with no true labels. Use `zero_division` parameter to control this behavior.\n",
      "  _warn_prf(average, modifier, msg_start, len(result))\n"
     ]
    }
   ],
   "source": [
    "# predict on the train set\n",
    "Y_train_pred = pipeline.predict(X_train)\n",
    "\n",
    "# classification report on train set\n",
    "print(classification_report(Y_train.values, Y_train_pred, target_names=Y.columns.values))\n",
    "\n",
    "# Model accuracy score on train set\n",
    "Y_train_accuracy = (Y_train_pred == Y_train).mean()\n",
    "print(Y_train_accuracy)"
   ]
  },
  {
   "cell_type": "markdown",
   "metadata": {},
   "source": [
    "#### Test model on test set"
   ]
  },
  {
   "cell_type": "code",
   "execution_count": 34,
   "metadata": {},
   "outputs": [
    {
     "name": "stdout",
     "output_type": "stream",
     "text": [
      "                        precision    recall  f1-score   support\n",
      "\n",
      "               related       0.83      0.94      0.89      4991\n",
      "               request       0.79      0.51      0.62      1158\n",
      "                 offer       0.31      0.15      0.20        80\n",
      "           aid_related       0.73      0.70      0.72      2717\n",
      "          medical_help       0.60      0.15      0.24       582\n",
      "      medical_products       0.58      0.13      0.21       391\n",
      "     search_and_rescue       0.41      0.15      0.21       206\n",
      "              security       0.30      0.09      0.13       163\n",
      "              military       0.49      0.14      0.21       247\n",
      "           child_alone       0.29      0.28      0.28        47\n",
      "                 water       0.78      0.45      0.57       465\n",
      "                  food       0.81      0.58      0.68       792\n",
      "               shelter       0.76      0.39      0.51       628\n",
      "              clothing       0.49      0.23      0.32       145\n",
      "                 money       0.37      0.11      0.17       180\n",
      "        missing_people       0.39      0.14      0.21       120\n",
      "              refugees       0.37      0.11      0.17       262\n",
      "                 death       0.64      0.22      0.33       344\n",
      "             other_aid       0.53      0.06      0.10       911\n",
      "infrastructure_related       0.29      0.03      0.06       458\n",
      "             transport       0.50      0.11      0.18       350\n",
      "             buildings       0.61      0.16      0.26       370\n",
      "           electricity       0.44      0.10      0.17       194\n",
      "                 tools       0.30      0.14      0.20        90\n",
      "             hospitals       0.35      0.13      0.19       103\n",
      "                 shops       0.33      0.17      0.22        71\n",
      "           aid_centers       0.33      0.10      0.15       128\n",
      "  other_infrastructure       0.35      0.05      0.08       330\n",
      "       weather_related       0.81      0.70      0.76      1820\n",
      "                floods       0.82      0.47      0.60       566\n",
      "                 storm       0.74      0.57      0.65       652\n",
      "                  fire       0.33      0.14      0.20       113\n",
      "            earthquake       0.84      0.76      0.80       637\n",
      "                  cold       0.49      0.20      0.29       188\n",
      "         other_weather       0.42      0.08      0.13       382\n",
      "         direct_report       0.72      0.35      0.48      1319\n",
      "\n",
      "             micro avg       0.76      0.53      0.62     22200\n",
      "             macro avg       0.53      0.27      0.34     22200\n",
      "          weighted avg       0.70      0.53      0.57     22200\n",
      "           samples avg       0.65      0.48      0.51     22200\n",
      "\n",
      "related                   0.814312\n",
      "request                   0.888618\n",
      "offer                     0.985505\n",
      "aid_related               0.770674\n",
      "medical_help              0.915777\n",
      "medical_products          0.942478\n",
      "search_and_rescue         0.966433\n",
      "security                  0.972383\n",
      "military                  0.962008\n",
      "child_alone               0.989930\n",
      "water                     0.952090\n",
      "food                      0.932713\n",
      "shelter                   0.929356\n",
      "clothing                  0.977571\n",
      "money                     0.970400\n",
      "missing_people            0.980165\n",
      "refugees                  0.956973\n",
      "death                     0.952701\n",
      "other_aid                 0.861916\n",
      "infrastructure_related    0.926610\n",
      "transport                 0.946597\n",
      "buildings                 0.946750\n",
      "electricity               0.969637\n",
      "tools                     0.983674\n",
      "hospitals                 0.982606\n",
      "shops                     0.987336\n",
      "aid_centers               0.978334\n",
      "other_infrastructure      0.947666\n",
      "weather_related           0.873207\n",
      "floods                    0.945682\n",
      "storm                     0.937595\n",
      "fire                      0.980165\n",
      "earthquake                0.962161\n",
      "cold                      0.971010\n",
      "other_weather             0.940037\n",
      "direct_report             0.842844\n",
      "dtype: float64\n"
     ]
    },
    {
     "name": "stderr",
     "output_type": "stream",
     "text": [
      "C:\\Users\\yuqiu\\AppData\\Local\\Programs\\Python\\Python38\\lib\\site-packages\\sklearn\\metrics\\_classification.py:1308: UndefinedMetricWarning: Precision and F-score are ill-defined and being set to 0.0 in samples with no predicted labels. Use `zero_division` parameter to control this behavior.\n",
      "  _warn_prf(average, modifier, msg_start, len(result))\n",
      "C:\\Users\\yuqiu\\AppData\\Local\\Programs\\Python\\Python38\\lib\\site-packages\\sklearn\\metrics\\_classification.py:1308: UndefinedMetricWarning: Recall and F-score are ill-defined and being set to 0.0 in samples with no true labels. Use `zero_division` parameter to control this behavior.\n",
      "  _warn_prf(average, modifier, msg_start, len(result))\n"
     ]
    }
   ],
   "source": [
    "# predict on the test set\n",
    "Y_test_pred = pipeline.predict(X_test)\n",
    "\n",
    "# classification report on test set\n",
    "print(classification_report(Y_test.values, Y_test_pred, target_names=Y.columns.values))\n",
    "\n",
    "# Model accuracy score on test set\n",
    "Y_test_accuracy = (Y_test_pred == Y_test).mean()\n",
    "print(Y_test_accuracy)"
   ]
  },
  {
   "cell_type": "markdown",
   "metadata": {},
   "source": [
    "> when predict on test set, model has lower precision accuracy recall. This indicates overfitting, the precision ranges from 0.3-0.8.\n",
    "we may need to try other way improving the model."
   ]
  },
  {
   "cell_type": "markdown",
   "metadata": {},
   "source": [
    "### 6. Improve your model\n",
    "Use grid search to find better parameters. "
   ]
  },
  {
   "cell_type": "code",
   "execution_count": 35,
   "metadata": {},
   "outputs": [
    {
     "data": {
      "text/plain": [
       "{'memory': None,\n",
       " 'steps': [('vect',\n",
       "   CountVectorizer(tokenizer=<function tokenize at 0x00000298A4D64B80>)),\n",
       "  ('tfidf', TfidfTransformer()),\n",
       "  ('clf', MultiOutputClassifier(estimator=RandomForestClassifier()))],\n",
       " 'verbose': False,\n",
       " 'vect': CountVectorizer(tokenizer=<function tokenize at 0x00000298A4D64B80>),\n",
       " 'tfidf': TfidfTransformer(),\n",
       " 'clf': MultiOutputClassifier(estimator=RandomForestClassifier()),\n",
       " 'vect__analyzer': 'word',\n",
       " 'vect__binary': False,\n",
       " 'vect__decode_error': 'strict',\n",
       " 'vect__dtype': numpy.int64,\n",
       " 'vect__encoding': 'utf-8',\n",
       " 'vect__input': 'content',\n",
       " 'vect__lowercase': True,\n",
       " 'vect__max_df': 1.0,\n",
       " 'vect__max_features': None,\n",
       " 'vect__min_df': 1,\n",
       " 'vect__ngram_range': (1, 1),\n",
       " 'vect__preprocessor': None,\n",
       " 'vect__stop_words': None,\n",
       " 'vect__strip_accents': None,\n",
       " 'vect__token_pattern': '(?u)\\\\b\\\\w\\\\w+\\\\b',\n",
       " 'vect__tokenizer': <function __main__.tokenize(text)>,\n",
       " 'vect__vocabulary': None,\n",
       " 'tfidf__norm': 'l2',\n",
       " 'tfidf__smooth_idf': True,\n",
       " 'tfidf__sublinear_tf': False,\n",
       " 'tfidf__use_idf': True,\n",
       " 'clf__estimator__bootstrap': True,\n",
       " 'clf__estimator__ccp_alpha': 0.0,\n",
       " 'clf__estimator__class_weight': None,\n",
       " 'clf__estimator__criterion': 'gini',\n",
       " 'clf__estimator__max_depth': None,\n",
       " 'clf__estimator__max_features': 'auto',\n",
       " 'clf__estimator__max_leaf_nodes': None,\n",
       " 'clf__estimator__max_samples': None,\n",
       " 'clf__estimator__min_impurity_decrease': 0.0,\n",
       " 'clf__estimator__min_samples_leaf': 1,\n",
       " 'clf__estimator__min_samples_split': 2,\n",
       " 'clf__estimator__min_weight_fraction_leaf': 0.0,\n",
       " 'clf__estimator__n_estimators': 100,\n",
       " 'clf__estimator__n_jobs': None,\n",
       " 'clf__estimator__oob_score': False,\n",
       " 'clf__estimator__random_state': None,\n",
       " 'clf__estimator__verbose': 0,\n",
       " 'clf__estimator__warm_start': False,\n",
       " 'clf__estimator': RandomForestClassifier(),\n",
       " 'clf__n_jobs': None}"
      ]
     },
     "execution_count": 35,
     "metadata": {},
     "output_type": "execute_result"
    }
   ],
   "source": [
    "pipeline.get_params()"
   ]
  },
  {
   "cell_type": "markdown",
   "metadata": {},
   "source": [
    "Advise to have a gridsearch that runs in adequate time: reduce complexity by using 2-3 parameters with 2-3 values in each"
   ]
  },
  {
   "cell_type": "code",
   "execution_count": 36,
   "metadata": {},
   "outputs": [],
   "source": [
    "# specify parameters for grid search\n",
    "# Reduce cv=2 instead of default cv=5 if needed \n",
    "# Use verbose=2 or 3 to know that the process is running\n",
    "\n",
    "pipe_params = {'clf__estimator__n_estimators':[100,200],\n",
    "              'clf__estimator__min_samples_split': [2,3]}\n",
    "\n",
    "# create grid search object\n",
    "grid_pipe = GridSearchCV(pipeline, param_grid=pipe_params, verbose=3)"
   ]
  },
  {
   "cell_type": "markdown",
   "metadata": {},
   "source": [
    "It takes a very long time to fit the cv into the train set"
   ]
  },
  {
   "cell_type": "code",
   "execution_count": 38,
   "metadata": {
    "scrolled": false
   },
   "outputs": [
    {
     "name": "stdout",
     "output_type": "stream",
     "text": [
      "Fitting 5 folds for each of 4 candidates, totalling 20 fits\n",
      "[CV 1/5] END clf__estimator__min_samples_split=2, clf__estimator__n_estimators=100;, score=0.263 total time= 7.3min\n",
      "[CV 2/5] END clf__estimator__min_samples_split=2, clf__estimator__n_estimators=100;, score=0.255 total time= 7.4min\n",
      "[CV 3/5] END clf__estimator__min_samples_split=2, clf__estimator__n_estimators=100;, score=0.270 total time= 7.3min\n",
      "[CV 4/5] END clf__estimator__min_samples_split=2, clf__estimator__n_estimators=100;, score=0.265 total time= 7.3min\n",
      "[CV 5/5] END clf__estimator__min_samples_split=2, clf__estimator__n_estimators=100;, score=0.271 total time= 7.4min\n",
      "[CV 1/5] END clf__estimator__min_samples_split=2, clf__estimator__n_estimators=200;, score=0.270 total time=12.7min\n",
      "[CV 2/5] END clf__estimator__min_samples_split=2, clf__estimator__n_estimators=200;, score=0.255 total time=13.7min\n",
      "[CV 3/5] END clf__estimator__min_samples_split=2, clf__estimator__n_estimators=200;, score=0.275 total time=13.5min\n",
      "[CV 4/5] END clf__estimator__min_samples_split=2, clf__estimator__n_estimators=200;, score=0.264 total time=12.9min\n",
      "[CV 5/5] END clf__estimator__min_samples_split=2, clf__estimator__n_estimators=200;, score=0.271 total time=13.1min\n",
      "[CV 1/5] END clf__estimator__min_samples_split=3, clf__estimator__n_estimators=100;, score=0.265 total time= 7.1min\n",
      "[CV 2/5] END clf__estimator__min_samples_split=3, clf__estimator__n_estimators=100;, score=0.253 total time= 7.1min\n",
      "[CV 3/5] END clf__estimator__min_samples_split=3, clf__estimator__n_estimators=100;, score=0.265 total time= 7.1min\n",
      "[CV 4/5] END clf__estimator__min_samples_split=3, clf__estimator__n_estimators=100;, score=0.263 total time= 7.4min\n",
      "[CV 5/5] END clf__estimator__min_samples_split=3, clf__estimator__n_estimators=100;, score=0.266 total time= 7.1min\n",
      "[CV 1/5] END clf__estimator__min_samples_split=3, clf__estimator__n_estimators=200;, score=0.270 total time=11.3min\n",
      "[CV 2/5] END clf__estimator__min_samples_split=3, clf__estimator__n_estimators=200;, score=0.256 total time=11.6min\n",
      "[CV 3/5] END clf__estimator__min_samples_split=3, clf__estimator__n_estimators=200;, score=0.276 total time=11.7min\n",
      "[CV 4/5] END clf__estimator__min_samples_split=3, clf__estimator__n_estimators=200;, score=0.265 total time=11.4min\n",
      "[CV 5/5] END clf__estimator__min_samples_split=3, clf__estimator__n_estimators=200;, score=0.266 total time=11.8min\n"
     ]
    },
    {
     "data": {
      "text/plain": [
       "GridSearchCV(estimator=Pipeline(steps=[('vect',\n",
       "                                        CountVectorizer(tokenizer=<function tokenize at 0x00000298A4D64B80>)),\n",
       "                                       ('tfidf', TfidfTransformer()),\n",
       "                                       ('clf',\n",
       "                                        MultiOutputClassifier(estimator=RandomForestClassifier()))]),\n",
       "             param_grid={'clf__estimator__min_samples_split': [2, 3],\n",
       "                         'clf__estimator__n_estimators': [100, 200]},\n",
       "             verbose=3)"
      ]
     },
     "execution_count": 38,
     "metadata": {},
     "output_type": "execute_result"
    }
   ],
   "source": [
    "grid_pipe.fit(X_train,Y_train)"
   ]
  },
  {
   "cell_type": "code",
   "execution_count": 39,
   "metadata": {},
   "outputs": [
    {
     "data": {
      "text/plain": [
       "{'clf__estimator__min_samples_split': 2, 'clf__estimator__n_estimators': 200}"
      ]
     },
     "execution_count": 39,
     "metadata": {},
     "output_type": "execute_result"
    }
   ],
   "source": [
    "grid_pipe.best_params_"
   ]
  },
  {
   "cell_type": "code",
   "execution_count": 40,
   "metadata": {},
   "outputs": [
    {
     "data": {
      "text/plain": [
       "Pipeline(steps=[('vect',\n",
       "                 CountVectorizer(tokenizer=<function tokenize at 0x00000298A4D64B80>)),\n",
       "                ('tfidf', TfidfTransformer()),\n",
       "                ('clf',\n",
       "                 MultiOutputClassifier(estimator=RandomForestClassifier(n_estimators=200)))])"
      ]
     },
     "execution_count": 40,
     "metadata": {},
     "output_type": "execute_result"
    }
   ],
   "source": [
    "grid_pipe.best_estimator_"
   ]
  },
  {
   "cell_type": "code",
   "execution_count": 41,
   "metadata": {},
   "outputs": [
    {
     "data": {
      "text/plain": [
       "0.2669112776338357"
      ]
     },
     "execution_count": 41,
     "metadata": {},
     "output_type": "execute_result"
    }
   ],
   "source": [
    "grid_pipe.best_score_"
   ]
  },
  {
   "cell_type": "markdown",
   "metadata": {},
   "source": [
    "### 7. Test your model\n",
    "Show the accuracy, precision, and recall of the tuned model.  \n",
    "\n",
    "Since this project focuses on code quality, process, and  pipelines, there is no minimum performance metric needed to pass. However, make sure to fine tune your models for accuracy, precision and recall to make your project stand out - especially for your portfolio!"
   ]
  },
  {
   "cell_type": "markdown",
   "metadata": {},
   "source": [
    "The best parameters and estimators is {'clf__estimator__min_samples_split': 2, 'clf__estimator__n_estimators': 200}, it doesn't seem to have a big improvement with parameters tuning, so we keep the original setting as it is."
   ]
  },
  {
   "cell_type": "markdown",
   "metadata": {},
   "source": [
    "### 8. Try improving your model further. Here are a few ideas:\n",
    "* try other machine learning algorithms\n",
    "* add other features besides the TF-IDF"
   ]
  },
  {
   "cell_type": "markdown",
   "metadata": {},
   "source": [
    "### Other machine learning algorithms"
   ]
  },
  {
   "cell_type": "markdown",
   "metadata": {},
   "source": [
    "> 1. AdaBoostClassifier\n",
    "> 2. SVM"
   ]
  },
  {
   "cell_type": "markdown",
   "metadata": {},
   "source": [
    "1. AdaBoostClassifier"
   ]
  },
  {
   "cell_type": "code",
   "execution_count": 17,
   "metadata": {},
   "outputs": [],
   "source": [
    "ABC_pipe = Pipeline([\n",
    "    ('vect', CountVectorizer(tokenizer=tokenize)),\n",
    "    ('tfidf', TfidfTransformer()),\n",
    "    ('clf', MultiOutputClassifier(AdaBoostClassifier()))\n",
    "])"
   ]
  },
  {
   "cell_type": "code",
   "execution_count": 18,
   "metadata": {},
   "outputs": [
    {
     "data": {
      "text/plain": [
       "{'memory': None,\n",
       " 'steps': [('vect',\n",
       "   CountVectorizer(tokenizer=<function tokenize at 0x00000242AAE08DC0>)),\n",
       "  ('tfidf', TfidfTransformer()),\n",
       "  ('clf', MultiOutputClassifier(estimator=AdaBoostClassifier()))],\n",
       " 'verbose': False,\n",
       " 'vect': CountVectorizer(tokenizer=<function tokenize at 0x00000242AAE08DC0>),\n",
       " 'tfidf': TfidfTransformer(),\n",
       " 'clf': MultiOutputClassifier(estimator=AdaBoostClassifier()),\n",
       " 'vect__analyzer': 'word',\n",
       " 'vect__binary': False,\n",
       " 'vect__decode_error': 'strict',\n",
       " 'vect__dtype': numpy.int64,\n",
       " 'vect__encoding': 'utf-8',\n",
       " 'vect__input': 'content',\n",
       " 'vect__lowercase': True,\n",
       " 'vect__max_df': 1.0,\n",
       " 'vect__max_features': None,\n",
       " 'vect__min_df': 1,\n",
       " 'vect__ngram_range': (1, 1),\n",
       " 'vect__preprocessor': None,\n",
       " 'vect__stop_words': None,\n",
       " 'vect__strip_accents': None,\n",
       " 'vect__token_pattern': '(?u)\\\\b\\\\w\\\\w+\\\\b',\n",
       " 'vect__tokenizer': <function __main__.tokenize(text)>,\n",
       " 'vect__vocabulary': None,\n",
       " 'tfidf__norm': 'l2',\n",
       " 'tfidf__smooth_idf': True,\n",
       " 'tfidf__sublinear_tf': False,\n",
       " 'tfidf__use_idf': True,\n",
       " 'clf__estimator__algorithm': 'SAMME.R',\n",
       " 'clf__estimator__base_estimator': None,\n",
       " 'clf__estimator__learning_rate': 1.0,\n",
       " 'clf__estimator__n_estimators': 50,\n",
       " 'clf__estimator__random_state': None,\n",
       " 'clf__estimator': AdaBoostClassifier(),\n",
       " 'clf__n_jobs': None}"
      ]
     },
     "execution_count": 18,
     "metadata": {},
     "output_type": "execute_result"
    }
   ],
   "source": [
    "ABC_pipe.get_params()"
   ]
  },
  {
   "cell_type": "code",
   "execution_count": 19,
   "metadata": {},
   "outputs": [
    {
     "data": {
      "text/plain": [
       "Pipeline(steps=[('vect',\n",
       "                 CountVectorizer(tokenizer=<function tokenize at 0x00000242AAE08DC0>)),\n",
       "                ('tfidf', TfidfTransformer()),\n",
       "                ('clf', MultiOutputClassifier(estimator=AdaBoostClassifier()))])"
      ]
     },
     "execution_count": 19,
     "metadata": {},
     "output_type": "execute_result"
    }
   ],
   "source": [
    "ABC_pipe.fit(X_train,Y_train)"
   ]
  },
  {
   "cell_type": "code",
   "execution_count": 20,
   "metadata": {},
   "outputs": [],
   "source": [
    "ABC_pred = ABC_pipe.predict(X_test)"
   ]
  },
  {
   "cell_type": "code",
   "execution_count": 21,
   "metadata": {},
   "outputs": [],
   "source": [
    "ABC_accuracy = (ABC_pred == Y_test).mean()"
   ]
  },
  {
   "cell_type": "markdown",
   "metadata": {},
   "source": [
    "2. SVM"
   ]
  },
  {
   "cell_type": "code",
   "execution_count": 44,
   "metadata": {},
   "outputs": [],
   "source": [
    "SVC_pipe = Pipeline([\n",
    "    ('vect', CountVectorizer(tokenizer=tokenize)),\n",
    "    ('tfidf', TfidfTransformer()),\n",
    "    ('clf', MultiOutputClassifier(SVC()))\n",
    "])"
   ]
  },
  {
   "cell_type": "code",
   "execution_count": 45,
   "metadata": {},
   "outputs": [
    {
     "data": {
      "text/plain": [
       "{'memory': None,\n",
       " 'steps': [('vect',\n",
       "   CountVectorizer(tokenizer=<function tokenize at 0x00000298A4D64B80>)),\n",
       "  ('tfidf', TfidfTransformer()),\n",
       "  ('clf', MultiOutputClassifier(estimator=SVC()))],\n",
       " 'verbose': False,\n",
       " 'vect': CountVectorizer(tokenizer=<function tokenize at 0x00000298A4D64B80>),\n",
       " 'tfidf': TfidfTransformer(),\n",
       " 'clf': MultiOutputClassifier(estimator=SVC()),\n",
       " 'vect__analyzer': 'word',\n",
       " 'vect__binary': False,\n",
       " 'vect__decode_error': 'strict',\n",
       " 'vect__dtype': numpy.int64,\n",
       " 'vect__encoding': 'utf-8',\n",
       " 'vect__input': 'content',\n",
       " 'vect__lowercase': True,\n",
       " 'vect__max_df': 1.0,\n",
       " 'vect__max_features': None,\n",
       " 'vect__min_df': 1,\n",
       " 'vect__ngram_range': (1, 1),\n",
       " 'vect__preprocessor': None,\n",
       " 'vect__stop_words': None,\n",
       " 'vect__strip_accents': None,\n",
       " 'vect__token_pattern': '(?u)\\\\b\\\\w\\\\w+\\\\b',\n",
       " 'vect__tokenizer': <function __main__.tokenize(text)>,\n",
       " 'vect__vocabulary': None,\n",
       " 'tfidf__norm': 'l2',\n",
       " 'tfidf__smooth_idf': True,\n",
       " 'tfidf__sublinear_tf': False,\n",
       " 'tfidf__use_idf': True,\n",
       " 'clf__estimator__C': 1.0,\n",
       " 'clf__estimator__break_ties': False,\n",
       " 'clf__estimator__cache_size': 200,\n",
       " 'clf__estimator__class_weight': None,\n",
       " 'clf__estimator__coef0': 0.0,\n",
       " 'clf__estimator__decision_function_shape': 'ovr',\n",
       " 'clf__estimator__degree': 3,\n",
       " 'clf__estimator__gamma': 'scale',\n",
       " 'clf__estimator__kernel': 'rbf',\n",
       " 'clf__estimator__max_iter': -1,\n",
       " 'clf__estimator__probability': False,\n",
       " 'clf__estimator__random_state': None,\n",
       " 'clf__estimator__shrinking': True,\n",
       " 'clf__estimator__tol': 0.001,\n",
       " 'clf__estimator__verbose': False,\n",
       " 'clf__estimator': SVC(),\n",
       " 'clf__n_jobs': None}"
      ]
     },
     "execution_count": 45,
     "metadata": {},
     "output_type": "execute_result"
    }
   ],
   "source": [
    "SVC_pipe.get_params()"
   ]
  },
  {
   "cell_type": "code",
   "execution_count": 49,
   "metadata": {},
   "outputs": [
    {
     "data": {
      "text/plain": [
       "Pipeline(steps=[('vect',\n",
       "                 CountVectorizer(tokenizer=<function tokenize at 0x00000298A4D64B80>)),\n",
       "                ('tfidf', TfidfTransformer()),\n",
       "                ('clf', MultiOutputClassifier(estimator=SVC()))])"
      ]
     },
     "execution_count": 49,
     "metadata": {},
     "output_type": "execute_result"
    }
   ],
   "source": [
    "SVC_pipe.fit(X_train,Y_train)"
   ]
  },
  {
   "cell_type": "code",
   "execution_count": 50,
   "metadata": {},
   "outputs": [],
   "source": [
    "SVC_pred = SVC_pipe.predict(X_test)"
   ]
  },
  {
   "cell_type": "code",
   "execution_count": 51,
   "metadata": {},
   "outputs": [],
   "source": [
    "SVC_accuracy = (SVC_pred == Y_test).mean()"
   ]
  },
  {
   "cell_type": "markdown",
   "metadata": {},
   "source": [
    "note:\n",
    "\n",
    "### How to avoid data leakage\n",
    "Below are some tips on avoiding data leakage:\n",
    "\n",
    "- Always split the data into train and test subsets first, particularly before any preprocessing steps.\n",
    "\n",
    "- Never include test data when using the fit and fit_transform methods. Using all the data, e.g., fit(X), can result in overly optimistic scores.\n",
    "\n",
    "- Conversely, the transform method should be used on both train and test subsets as the same preprocessing should be applied to all the data. This can be achieved by using `fit_transform` on the train subset and `transform` on the test subset.\n",
    "\n",
    "- The scikit-learn `pipeline` is a great way to prevent data leakage as it ensures that the appropriate method is performed on the correct data subset. The pipeline is ideal for use in cross-validation and hyper-parameter tuning functions."
   ]
  },
  {
   "cell_type": "markdown",
   "metadata": {},
   "source": [
    "### Accuracy comparison"
   ]
  },
  {
   "cell_type": "code",
   "execution_count": 53,
   "metadata": {
    "scrolled": false
   },
   "outputs": [
    {
     "name": "stdout",
     "output_type": "stream",
     "text": [
      "Models Accuracy Score Comparison\n"
     ]
    },
    {
     "data": {
      "text/html": [
       "<div>\n",
       "<style scoped>\n",
       "    .dataframe tbody tr th:only-of-type {\n",
       "        vertical-align: middle;\n",
       "    }\n",
       "\n",
       "    .dataframe tbody tr th {\n",
       "        vertical-align: top;\n",
       "    }\n",
       "\n",
       "    .dataframe thead th {\n",
       "        text-align: right;\n",
       "    }\n",
       "</style>\n",
       "<table border=\"1\" class=\"dataframe\">\n",
       "  <thead>\n",
       "    <tr style=\"text-align: right;\">\n",
       "      <th></th>\n",
       "      <th>RandomForest</th>\n",
       "      <th>AdaBoost</th>\n",
       "      <th>SupportVectorMachine</th>\n",
       "    </tr>\n",
       "  </thead>\n",
       "  <tbody>\n",
       "    <tr>\n",
       "      <th>related</th>\n",
       "      <td>0.814312</td>\n",
       "      <td>0.786695</td>\n",
       "      <td>0.820415</td>\n",
       "    </tr>\n",
       "    <tr>\n",
       "      <th>request</th>\n",
       "      <td>0.888618</td>\n",
       "      <td>0.881904</td>\n",
       "      <td>0.898840</td>\n",
       "    </tr>\n",
       "    <tr>\n",
       "      <th>offer</th>\n",
       "      <td>0.985505</td>\n",
       "      <td>0.988099</td>\n",
       "      <td>0.987794</td>\n",
       "    </tr>\n",
       "    <tr>\n",
       "      <th>aid_related</th>\n",
       "      <td>0.770674</td>\n",
       "      <td>0.745957</td>\n",
       "      <td>0.775404</td>\n",
       "    </tr>\n",
       "    <tr>\n",
       "      <th>medical_help</th>\n",
       "      <td>0.915777</td>\n",
       "      <td>0.917608</td>\n",
       "      <td>0.917302</td>\n",
       "    </tr>\n",
       "    <tr>\n",
       "      <th>medical_products</th>\n",
       "      <td>0.942478</td>\n",
       "      <td>0.949649</td>\n",
       "      <td>0.945987</td>\n",
       "    </tr>\n",
       "    <tr>\n",
       "      <th>search_and_rescue</th>\n",
       "      <td>0.966433</td>\n",
       "      <td>0.971620</td>\n",
       "      <td>0.969332</td>\n",
       "    </tr>\n",
       "    <tr>\n",
       "      <th>security</th>\n",
       "      <td>0.972383</td>\n",
       "      <td>0.972078</td>\n",
       "      <td>0.974977</td>\n",
       "    </tr>\n",
       "    <tr>\n",
       "      <th>military</th>\n",
       "      <td>0.962008</td>\n",
       "      <td>0.964144</td>\n",
       "      <td>0.962771</td>\n",
       "    </tr>\n",
       "    <tr>\n",
       "      <th>child_alone</th>\n",
       "      <td>0.989930</td>\n",
       "      <td>0.992676</td>\n",
       "      <td>0.992829</td>\n",
       "    </tr>\n",
       "    <tr>\n",
       "      <th>water</th>\n",
       "      <td>0.952090</td>\n",
       "      <td>0.951175</td>\n",
       "      <td>0.953464</td>\n",
       "    </tr>\n",
       "    <tr>\n",
       "      <th>food</th>\n",
       "      <td>0.932713</td>\n",
       "      <td>0.942630</td>\n",
       "      <td>0.945072</td>\n",
       "    </tr>\n",
       "    <tr>\n",
       "      <th>shelter</th>\n",
       "      <td>0.929356</td>\n",
       "      <td>0.939274</td>\n",
       "      <td>0.940647</td>\n",
       "    </tr>\n",
       "    <tr>\n",
       "      <th>clothing</th>\n",
       "      <td>0.977571</td>\n",
       "      <td>0.981691</td>\n",
       "      <td>0.981385</td>\n",
       "    </tr>\n",
       "    <tr>\n",
       "      <th>money</th>\n",
       "      <td>0.970400</td>\n",
       "      <td>0.970857</td>\n",
       "      <td>0.973756</td>\n",
       "    </tr>\n",
       "    <tr>\n",
       "      <th>missing_people</th>\n",
       "      <td>0.980165</td>\n",
       "      <td>0.983827</td>\n",
       "      <td>0.981843</td>\n",
       "    </tr>\n",
       "    <tr>\n",
       "      <th>refugees</th>\n",
       "      <td>0.956973</td>\n",
       "      <td>0.961550</td>\n",
       "      <td>0.961245</td>\n",
       "    </tr>\n",
       "    <tr>\n",
       "      <th>death</th>\n",
       "      <td>0.952701</td>\n",
       "      <td>0.962466</td>\n",
       "      <td>0.959567</td>\n",
       "    </tr>\n",
       "    <tr>\n",
       "      <th>other_aid</th>\n",
       "      <td>0.861916</td>\n",
       "      <td>0.861306</td>\n",
       "      <td>0.865273</td>\n",
       "    </tr>\n",
       "    <tr>\n",
       "      <th>infrastructure_related</th>\n",
       "      <td>0.926610</td>\n",
       "      <td>0.927983</td>\n",
       "      <td>0.930119</td>\n",
       "    </tr>\n",
       "    <tr>\n",
       "      <th>transport</th>\n",
       "      <td>0.946597</td>\n",
       "      <td>0.950412</td>\n",
       "      <td>0.949344</td>\n",
       "    </tr>\n",
       "    <tr>\n",
       "      <th>buildings</th>\n",
       "      <td>0.946750</td>\n",
       "      <td>0.954074</td>\n",
       "      <td>0.950107</td>\n",
       "    </tr>\n",
       "    <tr>\n",
       "      <th>electricity</th>\n",
       "      <td>0.969637</td>\n",
       "      <td>0.972231</td>\n",
       "      <td>0.971620</td>\n",
       "    </tr>\n",
       "    <tr>\n",
       "      <th>tools</th>\n",
       "      <td>0.983674</td>\n",
       "      <td>0.985810</td>\n",
       "      <td>0.986268</td>\n",
       "    </tr>\n",
       "    <tr>\n",
       "      <th>hospitals</th>\n",
       "      <td>0.982606</td>\n",
       "      <td>0.983674</td>\n",
       "      <td>0.984284</td>\n",
       "    </tr>\n",
       "    <tr>\n",
       "      <th>shops</th>\n",
       "      <td>0.987336</td>\n",
       "      <td>0.988557</td>\n",
       "      <td>0.989167</td>\n",
       "    </tr>\n",
       "    <tr>\n",
       "      <th>aid_centers</th>\n",
       "      <td>0.978334</td>\n",
       "      <td>0.979249</td>\n",
       "      <td>0.980470</td>\n",
       "    </tr>\n",
       "    <tr>\n",
       "      <th>other_infrastructure</th>\n",
       "      <td>0.947666</td>\n",
       "      <td>0.948581</td>\n",
       "      <td>0.949649</td>\n",
       "    </tr>\n",
       "    <tr>\n",
       "      <th>weather_related</th>\n",
       "      <td>0.873207</td>\n",
       "      <td>0.873360</td>\n",
       "      <td>0.875038</td>\n",
       "    </tr>\n",
       "    <tr>\n",
       "      <th>floods</th>\n",
       "      <td>0.945682</td>\n",
       "      <td>0.950259</td>\n",
       "      <td>0.950259</td>\n",
       "    </tr>\n",
       "    <tr>\n",
       "      <th>storm</th>\n",
       "      <td>0.937595</td>\n",
       "      <td>0.933018</td>\n",
       "      <td>0.933628</td>\n",
       "    </tr>\n",
       "    <tr>\n",
       "      <th>fire</th>\n",
       "      <td>0.980165</td>\n",
       "      <td>0.984437</td>\n",
       "      <td>0.982606</td>\n",
       "    </tr>\n",
       "    <tr>\n",
       "      <th>earthquake</th>\n",
       "      <td>0.962161</td>\n",
       "      <td>0.964754</td>\n",
       "      <td>0.963686</td>\n",
       "    </tr>\n",
       "    <tr>\n",
       "      <th>cold</th>\n",
       "      <td>0.971010</td>\n",
       "      <td>0.976198</td>\n",
       "      <td>0.973756</td>\n",
       "    </tr>\n",
       "    <tr>\n",
       "      <th>other_weather</th>\n",
       "      <td>0.940037</td>\n",
       "      <td>0.939731</td>\n",
       "      <td>0.942478</td>\n",
       "    </tr>\n",
       "    <tr>\n",
       "      <th>direct_report</th>\n",
       "      <td>0.842844</td>\n",
       "      <td>0.836436</td>\n",
       "      <td>0.855050</td>\n",
       "    </tr>\n",
       "  </tbody>\n",
       "</table>\n",
       "</div>"
      ],
      "text/plain": [
       "                        RandomForest  AdaBoost  SupportVectorMachine\n",
       "related                     0.814312  0.786695              0.820415\n",
       "request                     0.888618  0.881904              0.898840\n",
       "offer                       0.985505  0.988099              0.987794\n",
       "aid_related                 0.770674  0.745957              0.775404\n",
       "medical_help                0.915777  0.917608              0.917302\n",
       "medical_products            0.942478  0.949649              0.945987\n",
       "search_and_rescue           0.966433  0.971620              0.969332\n",
       "security                    0.972383  0.972078              0.974977\n",
       "military                    0.962008  0.964144              0.962771\n",
       "child_alone                 0.989930  0.992676              0.992829\n",
       "water                       0.952090  0.951175              0.953464\n",
       "food                        0.932713  0.942630              0.945072\n",
       "shelter                     0.929356  0.939274              0.940647\n",
       "clothing                    0.977571  0.981691              0.981385\n",
       "money                       0.970400  0.970857              0.973756\n",
       "missing_people              0.980165  0.983827              0.981843\n",
       "refugees                    0.956973  0.961550              0.961245\n",
       "death                       0.952701  0.962466              0.959567\n",
       "other_aid                   0.861916  0.861306              0.865273\n",
       "infrastructure_related      0.926610  0.927983              0.930119\n",
       "transport                   0.946597  0.950412              0.949344\n",
       "buildings                   0.946750  0.954074              0.950107\n",
       "electricity                 0.969637  0.972231              0.971620\n",
       "tools                       0.983674  0.985810              0.986268\n",
       "hospitals                   0.982606  0.983674              0.984284\n",
       "shops                       0.987336  0.988557              0.989167\n",
       "aid_centers                 0.978334  0.979249              0.980470\n",
       "other_infrastructure        0.947666  0.948581              0.949649\n",
       "weather_related             0.873207  0.873360              0.875038\n",
       "floods                      0.945682  0.950259              0.950259\n",
       "storm                       0.937595  0.933018              0.933628\n",
       "fire                        0.980165  0.984437              0.982606\n",
       "earthquake                  0.962161  0.964754              0.963686\n",
       "cold                        0.971010  0.976198              0.973756\n",
       "other_weather               0.940037  0.939731              0.942478\n",
       "direct_report               0.842844  0.836436              0.855050"
      ]
     },
     "execution_count": 53,
     "metadata": {},
     "output_type": "execute_result"
    }
   ],
   "source": [
    "# concatenate accuracry scores\n",
    "accuracy_df = pd.concat([Y_test_accuracy, ABC_accuracy, SVC_accuracy],axis=1)\n",
    "accuracy_df.columns=['RandomForest','AdaBoost','SupportVectorMachine']\n",
    "\n",
    "print('Models Accuracy Score Comparison')\n",
    "accuracy_df"
   ]
  },
  {
   "cell_type": "code",
   "execution_count": 54,
   "metadata": {},
   "outputs": [],
   "source": [
    "to_graph = accuracy_df.to_dict()"
   ]
  },
  {
   "cell_type": "code",
   "execution_count": 55,
   "metadata": {
    "scrolled": false
   },
   "outputs": [
    {
     "data": {
      "text/plain": [
       "Text(0, 0.5, 'Accuracy rate')"
      ]
     },
     "execution_count": 55,
     "metadata": {},
     "output_type": "execute_result"
    },
    {
     "data": {
      "image/png": "[encoded data removed]",
      "text/plain": [
       "<Figure size 720x432 with 1 Axes>"
      ]
     },
     "metadata": {
      "needs_background": "light"
     },
     "output_type": "display_data"
    }
   ],
   "source": [
    "fig, ax = plt.subplots(figsize=(10,6))\n",
    "ax.boxplot(accuracy_df.values)\n",
    "ax.set_xticklabels(['RandomForest','AdaBoost','SupportVectorMachine'])\n",
    "\n",
    "plt.title('Models Accuracy Comparison')\n",
    "plt.ylabel('Accuracy rate')"
   ]
  },
  {
   "cell_type": "markdown",
   "metadata": {},
   "source": [
    "Regardless the implement of GridSearch, Support Vector Machine works slightly better than the other two model from the point of accuracy, since the overall accuracy of the model is highest among these three models. However, the Support Vector Machine took too long time than the other two model. So, in this case, let's use Adaboost as illustration, as it is better than Random Forest. "
   ]
  },
  {
   "cell_type": "markdown",
   "metadata": {},
   "source": [
    "### Use Custom Transformer "
   ]
  },
  {
   "cell_type": "markdown",
   "metadata": {},
   "source": [
    "1. Create a custom estimator that identify the buzzwords relates to Disaster\n",
    "2. Apply the feature union in above pipleline using rfc as the estimator"
   ]
  },
  {
   "cell_type": "code",
   "execution_count": 4,
   "metadata": {},
   "outputs": [],
   "source": [
    "class DisasterWordExtractor(BaseEstimator, TransformerMixin):\n",
    "\n",
    "    def disaster_words(self, text):\n",
    "        \"\"\"\n",
    "        INPUT:\n",
    "        text(str) - raw text data\n",
    "        \n",
    "        OUTPUT:\n",
    "        bool(boolean object) - 1 or 0\n",
    "        \"\"\"\n",
    "        # list of words that are commonly used during a disaster event\n",
    "        disaster_words = ['food','hunger','hungry','starving','water','drink','eat','thirsty',\n",
    "                 'need','hospital','medicine','medical','ill','pain','disease','injured','falling',\n",
    "                 'wound','blood','dying','death','dead','aid','help','assistance','cloth','cold','wet','shelter',\n",
    "                 'hurricane','earthquake','flood','whirlpool','live','alive','child','people','shortage','blocked',\n",
    "                 'trap','rob','gas','pregnant','baby','cry','fire','blizard','freezing','blackout','drought',\n",
    "                 'hailstorm','heat','pressure','lightning','tornado','tsunami']\n",
    "        \n",
    "        # lemmatize the buzzwords\n",
    "        lemmatized_words = [WordNetLemmatizer().lemmatize(w, pos='v') for w in disaster_words]\n",
    "        # Get the stem words of each word in lemmatized_words \n",
    "        stem_disaster_words = [PorterStemmer().stem(w) for w in lemmatized_words]\n",
    "        \n",
    "        # tokenize the input text\n",
    "        clean_tokens = tokenize(text)\n",
    "        for token in clean_tokens:\n",
    "            if token in stem_disaster_words:\n",
    "                return 1\n",
    "        return 0\n",
    "    \n",
    "    def fit(self,X,y=None):\n",
    "        return self\n",
    "    \n",
    "    def transform(self,X):\n",
    "        X_disaster_words = pd.Series(X).apply(self.disaster_words)\n",
    "        return pd.DataFrame(X_disaster_words)"
   ]
  },
  {
   "cell_type": "code",
   "execution_count": 10,
   "metadata": {},
   "outputs": [],
   "source": [
    "buzzword_pipe = Pipeline([\n",
    "    ('features',FeatureUnion([\n",
    "        ('text_pipeline',Pipeline([\n",
    "            ('vect',CountVectorizer(tokenizer=tokenize)),\n",
    "            ('tfidf',TfidfTransformer())\n",
    "        ])),\n",
    "        ('disaster_words',DisasterWordExtractor())\n",
    "    ])),\n",
    "    ('clf',MultiOutputClassifier(AdaBoostClassifier()))\n",
    "])"
   ]
  },
  {
   "cell_type": "code",
   "execution_count": 11,
   "metadata": {},
   "outputs": [
    {
     "data": {
      "text/plain": [
       "{'memory': None,\n",
       " 'steps': [('features',\n",
       "   FeatureUnion(transformer_list=[('text_pipeline',\n",
       "                                   Pipeline(steps=[('vect',\n",
       "                                                    CountVectorizer(tokenizer=<function tokenize at 0x00000242AAE08DC0>)),\n",
       "                                                   ('tfidf',\n",
       "                                                    TfidfTransformer())])),\n",
       "                                  ('disaster_words', DisasterWordExtractor())])),\n",
       "  ('clf', MultiOutputClassifier(estimator=AdaBoostClassifier()))],\n",
       " 'verbose': False,\n",
       " 'features': FeatureUnion(transformer_list=[('text_pipeline',\n",
       "                                 Pipeline(steps=[('vect',\n",
       "                                                  CountVectorizer(tokenizer=<function tokenize at 0x00000242AAE08DC0>)),\n",
       "                                                 ('tfidf',\n",
       "                                                  TfidfTransformer())])),\n",
       "                                ('disaster_words', DisasterWordExtractor())]),\n",
       " 'clf': MultiOutputClassifier(estimator=AdaBoostClassifier()),\n",
       " 'features__n_jobs': None,\n",
       " 'features__transformer_list': [('text_pipeline',\n",
       "   Pipeline(steps=[('vect',\n",
       "                    CountVectorizer(tokenizer=<function tokenize at 0x00000242AAE08DC0>)),\n",
       "                   ('tfidf', TfidfTransformer())])),\n",
       "  ('disaster_words', DisasterWordExtractor())],\n",
       " 'features__transformer_weights': None,\n",
       " 'features__verbose': False,\n",
       " 'features__text_pipeline': Pipeline(steps=[('vect',\n",
       "                  CountVectorizer(tokenizer=<function tokenize at 0x00000242AAE08DC0>)),\n",
       "                 ('tfidf', TfidfTransformer())]),\n",
       " 'features__disaster_words': DisasterWordExtractor(),\n",
       " 'features__text_pipeline__memory': None,\n",
       " 'features__text_pipeline__steps': [('vect',\n",
       "   CountVectorizer(tokenizer=<function tokenize at 0x00000242AAE08DC0>)),\n",
       "  ('tfidf', TfidfTransformer())],\n",
       " 'features__text_pipeline__verbose': False,\n",
       " 'features__text_pipeline__vect': CountVectorizer(tokenizer=<function tokenize at 0x00000242AAE08DC0>),\n",
       " 'features__text_pipeline__tfidf': TfidfTransformer(),\n",
       " 'features__text_pipeline__vect__analyzer': 'word',\n",
       " 'features__text_pipeline__vect__binary': False,\n",
       " 'features__text_pipeline__vect__decode_error': 'strict',\n",
       " 'features__text_pipeline__vect__dtype': numpy.int64,\n",
       " 'features__text_pipeline__vect__encoding': 'utf-8',\n",
       " 'features__text_pipeline__vect__input': 'content',\n",
       " 'features__text_pipeline__vect__lowercase': True,\n",
       " 'features__text_pipeline__vect__max_df': 1.0,\n",
       " 'features__text_pipeline__vect__max_features': None,\n",
       " 'features__text_pipeline__vect__min_df': 1,\n",
       " 'features__text_pipeline__vect__ngram_range': (1, 1),\n",
       " 'features__text_pipeline__vect__preprocessor': None,\n",
       " 'features__text_pipeline__vect__stop_words': None,\n",
       " 'features__text_pipeline__vect__strip_accents': None,\n",
       " 'features__text_pipeline__vect__token_pattern': '(?u)\\\\b\\\\w\\\\w+\\\\b',\n",
       " 'features__text_pipeline__vect__tokenizer': <function __main__.tokenize(text)>,\n",
       " 'features__text_pipeline__vect__vocabulary': None,\n",
       " 'features__text_pipeline__tfidf__norm': 'l2',\n",
       " 'features__text_pipeline__tfidf__smooth_idf': True,\n",
       " 'features__text_pipeline__tfidf__sublinear_tf': False,\n",
       " 'features__text_pipeline__tfidf__use_idf': True,\n",
       " 'clf__estimator__algorithm': 'SAMME.R',\n",
       " 'clf__estimator__base_estimator': None,\n",
       " 'clf__estimator__learning_rate': 1.0,\n",
       " 'clf__estimator__n_estimators': 50,\n",
       " 'clf__estimator__random_state': None,\n",
       " 'clf__estimator': AdaBoostClassifier(),\n",
       " 'clf__n_jobs': None}"
      ]
     },
     "execution_count": 11,
     "metadata": {},
     "output_type": "execute_result"
    }
   ],
   "source": [
    "buzzword_pipe.get_params()"
   ]
  },
  {
   "cell_type": "code",
   "execution_count": 12,
   "metadata": {},
   "outputs": [
    {
     "data": {
      "text/plain": [
       "Pipeline(steps=[('features',\n",
       "                 FeatureUnion(transformer_list=[('text_pipeline',\n",
       "                                                 Pipeline(steps=[('vect',\n",
       "                                                                  CountVectorizer(tokenizer=<function tokenize at 0x00000242AAE08DC0>)),\n",
       "                                                                 ('tfidf',\n",
       "                                                                  TfidfTransformer())])),\n",
       "                                                ('disaster_words',\n",
       "                                                 DisasterWordExtractor())])),\n",
       "                ('clf', MultiOutputClassifier(estimator=AdaBoostClassifier()))])"
      ]
     },
     "execution_count": 12,
     "metadata": {},
     "output_type": "execute_result"
    }
   ],
   "source": [
    "buzzword_pipe.fit(X_train,Y_train)"
   ]
  },
  {
   "cell_type": "code",
   "execution_count": 13,
   "metadata": {},
   "outputs": [],
   "source": [
    "buzzword_pred= buzzword_pipe.predict(X_test)"
   ]
  },
  {
   "cell_type": "code",
   "execution_count": 14,
   "metadata": {},
   "outputs": [
    {
     "name": "stdout",
     "output_type": "stream",
     "text": [
      "With Disaster Word Extractor Test Scores\n",
      "                        precision    recall  f1-score   support\n",
      "\n",
      "               related       0.80      0.96      0.87      4991\n",
      "               request       0.78      0.47      0.58      1158\n",
      "                 offer       0.75      0.04      0.07        80\n",
      "           aid_related       0.73      0.62      0.67      2717\n",
      "          medical_help       0.59      0.24      0.34       582\n",
      "      medical_products       0.68      0.30      0.41       391\n",
      "     search_and_rescue       0.69      0.17      0.28       206\n",
      "              security       0.08      0.01      0.02       163\n",
      "              military       0.58      0.26      0.35       247\n",
      "           child_alone       0.58      0.15      0.24        47\n",
      "                 water       0.73      0.57      0.64       465\n",
      "                  food       0.80      0.69      0.74       792\n",
      "               shelter       0.77      0.52      0.62       628\n",
      "              clothing       0.67      0.34      0.45       145\n",
      "                 money       0.43      0.20      0.27       180\n",
      "        missing_people       0.70      0.13      0.22       120\n",
      "              refugees       0.55      0.21      0.30       262\n",
      "                 death       0.74      0.44      0.55       344\n",
      "             other_aid       0.52      0.14      0.22       911\n",
      "infrastructure_related       0.42      0.08      0.13       458\n",
      "             transport       0.63      0.17      0.27       350\n",
      "             buildings       0.72      0.31      0.43       370\n",
      "           electricity       0.61      0.17      0.27       194\n",
      "                 tools       0.33      0.03      0.06        90\n",
      "             hospitals       0.38      0.06      0.10       103\n",
      "                 shops       0.31      0.06      0.10        71\n",
      "           aid_centers       0.24      0.03      0.06       128\n",
      "  other_infrastructure       0.43      0.07      0.12       330\n",
      "       weather_related       0.86      0.65      0.74      1820\n",
      "                floods       0.84      0.52      0.65       566\n",
      "                 storm       0.75      0.49      0.59       652\n",
      "                  fire       0.60      0.19      0.28       113\n",
      "            earthquake       0.88      0.74      0.80       637\n",
      "                  cold       0.72      0.28      0.40       188\n",
      "         other_weather       0.44      0.12      0.19       382\n",
      "         direct_report       0.67      0.37      0.48      1319\n",
      "\n",
      "             micro avg       0.76      0.55      0.64     22200\n",
      "             macro avg       0.61      0.30      0.38     22200\n",
      "          weighted avg       0.71      0.55      0.59     22200\n",
      "           samples avg       0.65      0.51      0.52     22200\n",
      "\n"
     ]
    },
    {
     "name": "stderr",
     "output_type": "stream",
     "text": [
      "C:\\Users\\yuqiu\\AppData\\Local\\Programs\\Python\\Python38\\lib\\site-packages\\sklearn\\metrics\\_classification.py:1308: UndefinedMetricWarning: Precision and F-score are ill-defined and being set to 0.0 in samples with no predicted labels. Use `zero_division` parameter to control this behavior.\n",
      "  _warn_prf(average, modifier, msg_start, len(result))\n",
      "C:\\Users\\yuqiu\\AppData\\Local\\Programs\\Python\\Python38\\lib\\site-packages\\sklearn\\metrics\\_classification.py:1308: UndefinedMetricWarning: Recall and F-score are ill-defined and being set to 0.0 in samples with no true labels. Use `zero_division` parameter to control this behavior.\n",
      "  _warn_prf(average, modifier, msg_start, len(result))\n"
     ]
    }
   ],
   "source": [
    "# classification report on test set\n",
    "print('With Disaster Word Extractor Test Scores')\n",
    "print(classification_report(Y_test.values, buzzword_pred, target_names=Y.columns.values))"
   ]
  },
  {
   "cell_type": "code",
   "execution_count": 15,
   "metadata": {},
   "outputs": [
    {
     "name": "stdout",
     "output_type": "stream",
     "text": [
      "With Disaster Word Extractor Accuracy\n"
     ]
    },
    {
     "data": {
      "text/plain": [
       "0.9410792391414913"
      ]
     },
     "execution_count": 15,
     "metadata": {},
     "output_type": "execute_result"
    }
   ],
   "source": [
    "# accuracy score on test set\n",
    "print('With Disaster Word Extractor Accuracy')\n",
    "buzzword_accuracy = (buzzword_pred == Y_test).mean()\n",
    "buzzword_accuracy.mean()"
   ]
  },
  {
   "cell_type": "code",
   "execution_count": 22,
   "metadata": {},
   "outputs": [
    {
     "name": "stdout",
     "output_type": "stream",
     "text": [
      "Models with Buzzwords Feature Accuracy Score Comparison\n"
     ]
    },
    {
     "data": {
      "text/html": [
       "<div>\n",
       "<style scoped>\n",
       "    .dataframe tbody tr th:only-of-type {\n",
       "        vertical-align: middle;\n",
       "    }\n",
       "\n",
       "    .dataframe tbody tr th {\n",
       "        vertical-align: top;\n",
       "    }\n",
       "\n",
       "    .dataframe thead th {\n",
       "        text-align: right;\n",
       "    }\n",
       "</style>\n",
       "<table border=\"1\" class=\"dataframe\">\n",
       "  <thead>\n",
       "    <tr style=\"text-align: right;\">\n",
       "      <th></th>\n",
       "      <th>AdaBoost</th>\n",
       "      <th>AdaBoost+buzzwords</th>\n",
       "    </tr>\n",
       "  </thead>\n",
       "  <tbody>\n",
       "    <tr>\n",
       "      <th>related</th>\n",
       "      <td>0.786695</td>\n",
       "      <td>0.788068</td>\n",
       "    </tr>\n",
       "    <tr>\n",
       "      <th>request</th>\n",
       "      <td>0.881904</td>\n",
       "      <td>0.881904</td>\n",
       "    </tr>\n",
       "    <tr>\n",
       "      <th>offer</th>\n",
       "      <td>0.988099</td>\n",
       "      <td>0.988099</td>\n",
       "    </tr>\n",
       "    <tr>\n",
       "      <th>aid_related</th>\n",
       "      <td>0.745957</td>\n",
       "      <td>0.744431</td>\n",
       "    </tr>\n",
       "    <tr>\n",
       "      <th>medical_help</th>\n",
       "      <td>0.917608</td>\n",
       "      <td>0.917913</td>\n",
       "    </tr>\n",
       "    <tr>\n",
       "      <th>medical_products</th>\n",
       "      <td>0.949649</td>\n",
       "      <td>0.949649</td>\n",
       "    </tr>\n",
       "    <tr>\n",
       "      <th>search_and_rescue</th>\n",
       "      <td>0.971620</td>\n",
       "      <td>0.971620</td>\n",
       "    </tr>\n",
       "    <tr>\n",
       "      <th>security</th>\n",
       "      <td>0.972078</td>\n",
       "      <td>0.972078</td>\n",
       "    </tr>\n",
       "    <tr>\n",
       "      <th>military</th>\n",
       "      <td>0.964144</td>\n",
       "      <td>0.965060</td>\n",
       "    </tr>\n",
       "    <tr>\n",
       "      <th>child_alone</th>\n",
       "      <td>0.992676</td>\n",
       "      <td>0.993134</td>\n",
       "    </tr>\n",
       "    <tr>\n",
       "      <th>water</th>\n",
       "      <td>0.951175</td>\n",
       "      <td>0.954532</td>\n",
       "    </tr>\n",
       "    <tr>\n",
       "      <th>food</th>\n",
       "      <td>0.942630</td>\n",
       "      <td>0.942630</td>\n",
       "    </tr>\n",
       "    <tr>\n",
       "      <th>shelter</th>\n",
       "      <td>0.939274</td>\n",
       "      <td>0.939274</td>\n",
       "    </tr>\n",
       "    <tr>\n",
       "      <th>clothing</th>\n",
       "      <td>0.981691</td>\n",
       "      <td>0.981691</td>\n",
       "    </tr>\n",
       "    <tr>\n",
       "      <th>money</th>\n",
       "      <td>0.970857</td>\n",
       "      <td>0.970857</td>\n",
       "    </tr>\n",
       "    <tr>\n",
       "      <th>missing_people</th>\n",
       "      <td>0.983827</td>\n",
       "      <td>0.983064</td>\n",
       "    </tr>\n",
       "    <tr>\n",
       "      <th>refugees</th>\n",
       "      <td>0.961550</td>\n",
       "      <td>0.961550</td>\n",
       "    </tr>\n",
       "    <tr>\n",
       "      <th>death</th>\n",
       "      <td>0.962466</td>\n",
       "      <td>0.962466</td>\n",
       "    </tr>\n",
       "    <tr>\n",
       "      <th>other_aid</th>\n",
       "      <td>0.861306</td>\n",
       "      <td>0.862832</td>\n",
       "    </tr>\n",
       "    <tr>\n",
       "      <th>infrastructure_related</th>\n",
       "      <td>0.927983</td>\n",
       "      <td>0.927983</td>\n",
       "    </tr>\n",
       "    <tr>\n",
       "      <th>transport</th>\n",
       "      <td>0.950412</td>\n",
       "      <td>0.950412</td>\n",
       "    </tr>\n",
       "    <tr>\n",
       "      <th>buildings</th>\n",
       "      <td>0.954074</td>\n",
       "      <td>0.954074</td>\n",
       "    </tr>\n",
       "    <tr>\n",
       "      <th>electricity</th>\n",
       "      <td>0.972231</td>\n",
       "      <td>0.972231</td>\n",
       "    </tr>\n",
       "    <tr>\n",
       "      <th>tools</th>\n",
       "      <td>0.985810</td>\n",
       "      <td>0.985810</td>\n",
       "    </tr>\n",
       "    <tr>\n",
       "      <th>hospitals</th>\n",
       "      <td>0.983674</td>\n",
       "      <td>0.983674</td>\n",
       "    </tr>\n",
       "    <tr>\n",
       "      <th>shops</th>\n",
       "      <td>0.988709</td>\n",
       "      <td>0.988404</td>\n",
       "    </tr>\n",
       "    <tr>\n",
       "      <th>aid_centers</th>\n",
       "      <td>0.979249</td>\n",
       "      <td>0.979097</td>\n",
       "    </tr>\n",
       "    <tr>\n",
       "      <th>other_infrastructure</th>\n",
       "      <td>0.948581</td>\n",
       "      <td>0.948581</td>\n",
       "    </tr>\n",
       "    <tr>\n",
       "      <th>weather_related</th>\n",
       "      <td>0.873360</td>\n",
       "      <td>0.873360</td>\n",
       "    </tr>\n",
       "    <tr>\n",
       "      <th>floods</th>\n",
       "      <td>0.950259</td>\n",
       "      <td>0.950259</td>\n",
       "    </tr>\n",
       "    <tr>\n",
       "      <th>storm</th>\n",
       "      <td>0.933018</td>\n",
       "      <td>0.933018</td>\n",
       "    </tr>\n",
       "    <tr>\n",
       "      <th>fire</th>\n",
       "      <td>0.984437</td>\n",
       "      <td>0.983827</td>\n",
       "    </tr>\n",
       "    <tr>\n",
       "      <th>earthquake</th>\n",
       "      <td>0.964754</td>\n",
       "      <td>0.964907</td>\n",
       "    </tr>\n",
       "    <tr>\n",
       "      <th>cold</th>\n",
       "      <td>0.976198</td>\n",
       "      <td>0.976198</td>\n",
       "    </tr>\n",
       "    <tr>\n",
       "      <th>other_weather</th>\n",
       "      <td>0.939731</td>\n",
       "      <td>0.939731</td>\n",
       "    </tr>\n",
       "    <tr>\n",
       "      <th>direct_report</th>\n",
       "      <td>0.836436</td>\n",
       "      <td>0.836436</td>\n",
       "    </tr>\n",
       "  </tbody>\n",
       "</table>\n",
       "</div>"
      ],
      "text/plain": [
       "                        AdaBoost  AdaBoost+buzzwords\n",
       "related                 0.786695            0.788068\n",
       "request                 0.881904            0.881904\n",
       "offer                   0.988099            0.988099\n",
       "aid_related             0.745957            0.744431\n",
       "medical_help            0.917608            0.917913\n",
       "medical_products        0.949649            0.949649\n",
       "search_and_rescue       0.971620            0.971620\n",
       "security                0.972078            0.972078\n",
       "military                0.964144            0.965060\n",
       "child_alone             0.992676            0.993134\n",
       "water                   0.951175            0.954532\n",
       "food                    0.942630            0.942630\n",
       "shelter                 0.939274            0.939274\n",
       "clothing                0.981691            0.981691\n",
       "money                   0.970857            0.970857\n",
       "missing_people          0.983827            0.983064\n",
       "refugees                0.961550            0.961550\n",
       "death                   0.962466            0.962466\n",
       "other_aid               0.861306            0.862832\n",
       "infrastructure_related  0.927983            0.927983\n",
       "transport               0.950412            0.950412\n",
       "buildings               0.954074            0.954074\n",
       "electricity             0.972231            0.972231\n",
       "tools                   0.985810            0.985810\n",
       "hospitals               0.983674            0.983674\n",
       "shops                   0.988709            0.988404\n",
       "aid_centers             0.979249            0.979097\n",
       "other_infrastructure    0.948581            0.948581\n",
       "weather_related         0.873360            0.873360\n",
       "floods                  0.950259            0.950259\n",
       "storm                   0.933018            0.933018\n",
       "fire                    0.984437            0.983827\n",
       "earthquake              0.964754            0.964907\n",
       "cold                    0.976198            0.976198\n",
       "other_weather           0.939731            0.939731\n",
       "direct_report           0.836436            0.836436"
      ]
     },
     "execution_count": 22,
     "metadata": {},
     "output_type": "execute_result"
    }
   ],
   "source": [
    "# concatenate accuracry scores\n",
    "accuracy_2_df = pd.concat([ABC_accuracy, buzzword_accuracy],axis=1)\n",
    "accuracy_2_df.columns=['AdaBoost','AdaBoost+buzzwords']\n",
    "\n",
    "print('Models with Buzzwords Feature Accuracy Score Comparison')\n",
    "accuracy_2_df"
   ]
  },
  {
   "cell_type": "code",
   "execution_count": 23,
   "metadata": {},
   "outputs": [],
   "source": [
    "to_graph_2 = accuracy_2_df.to_dict()"
   ]
  },
  {
   "cell_type": "code",
   "execution_count": 24,
   "metadata": {},
   "outputs": [
    {
     "data": {
      "text/plain": [
       "Text(0, 0.5, 'Accuracy rate')"
      ]
     },
     "execution_count": 24,
     "metadata": {},
     "output_type": "execute_result"
    },
    {
     "data": {
      "image/png": "[encoded data removed]",
      "text/plain": [
       "<Figure size 432x432 with 1 Axes>"
      ]
     },
     "metadata": {
      "needs_background": "light"
     },
     "output_type": "display_data"
    }
   ],
   "source": [
    "fig, ax = plt.subplots(figsize=(6,6))\n",
    "ax.boxplot(accuracy_2_df.values)\n",
    "ax.set_xticklabels(['AdaBoost','AdaBoost+buzzwords'])\n",
    "\n",
    "plt.title('Models Accuracy Comparison')\n",
    "plt.ylabel('Accuracy rate')"
   ]
  },
  {
   "cell_type": "markdown",
   "metadata": {},
   "source": [
    "I'm going to use Adaboost with Feature union WITHOUT gridsearch for the final ML model"
   ]
  },
  {
   "cell_type": "markdown",
   "metadata": {},
   "source": [
    "### 9. Export your model as a pickle file"
   ]
  },
  {
   "cell_type": "code",
   "execution_count": 75,
   "metadata": {},
   "outputs": [],
   "source": [
    "import pickle"
   ]
  },
  {
   "cell_type": "code",
   "execution_count": 77,
   "metadata": {},
   "outputs": [],
   "source": [
    "# save the model to disk\n",
    "pickle.dump(buzzword_pipe, open('classifier.pkl','wb'))"
   ]
  },
  {
   "cell_type": "markdown",
   "metadata": {},
   "source": [
    "### 10. Use this notebook to complete `train.py`\n",
    "Use the template file attached in the Resources folder to write a script that runs the steps above to create a database and export a model based on a new dataset specified by the user."
   ]
  },
  {
   "cell_type": "code",
   "execution_count": null,
   "metadata": {},
   "outputs": [],
   "source": []
  }
 ],
 "metadata": {
  "kernelspec": {
   "display_name": "Python 3",
   "language": "python",
   "name": "python3"
  },
  "language_info": {
   "codemirror_mode": {
    "name": "ipython",
    "version": 3
   },
   "file_extension": ".py",
   "mimetype": "text/x-python",
   "name": "python",
   "nbconvert_exporter": "python",
   "pygments_lexer": "ipython3",
   "version": "3.8.9"
  }
 },
 "nbformat": 4,
 "nbformat_minor": 2
}
